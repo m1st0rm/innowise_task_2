{
 "cells": [
  {
   "cell_type": "markdown",
   "id": "d3df79dd",
   "metadata": {},
   "source": [
    "## Упражнения по библиотеке Numpy"
   ]
  },
  {
   "cell_type": "code",
   "id": "76b9c43b",
   "metadata": {
    "ExecuteTime": {
     "end_time": "2024-09-14T07:30:47.074071Z",
     "start_time": "2024-09-14T07:30:46.743317Z"
    }
   },
   "source": [
    "import numpy as np"
   ],
   "outputs": [],
   "execution_count": 3
  },
  {
   "cell_type": "markdown",
   "id": "03727b7c",
   "metadata": {},
   "source": [
    "**1.** Дан случайный массив, поменять знак у элементов, значения которых между 3 и 8"
   ]
  },
  {
   "cell_type": "code",
   "id": "b89a7523",
   "metadata": {
    "ExecuteTime": {
     "end_time": "2024-09-14T07:30:47.372437Z",
     "start_time": "2024-09-14T07:30:47.273982Z"
    }
   },
   "source": [
    "arr_t1 = np.random.randint(-8, 8, size=[10])\n",
    "\n",
    "print(\"Оригинальный массив:\")\n",
    "print(arr_t1)\n",
    "\n",
    "arr_t1[(arr_t1 > 3) & (arr_t1 < 8)] *= -1\n",
    "\n",
    "print(\"\\nМассив после изменения знаков:\")\n",
    "print(arr_t1)"
   ],
   "outputs": [
    {
     "name": "stdout",
     "output_type": "stream",
     "text": [
      "Оригинальный массив:\n",
      "[ 3  5  2  1  2 -8 -8  3  5  5]\n",
      "\n",
      "Массив после изменения знаков:\n",
      "[ 3 -5  2  1  2 -8 -8  3 -5 -5]\n"
     ]
    }
   ],
   "execution_count": 4
  },
  {
   "cell_type": "markdown",
   "id": "5fa4abda",
   "metadata": {},
   "source": [
    "**2.** Заменить максимальный элемент случайного массива на 0"
   ]
  },
  {
   "cell_type": "code",
   "id": "f2788a6e",
   "metadata": {
    "ExecuteTime": {
     "end_time": "2024-09-14T07:30:47.396052Z",
     "start_time": "2024-09-14T07:30:47.380471Z"
    }
   },
   "source": [
    "arr_t2 = np.random.randint(-20, 20, size=[20])\n",
    "\n",
    "print(\"Оригинальный массив:\")\n",
    "print(arr_t2)\n",
    "\n",
    "print(f\"\\nМаксимальный элемент: {np.max(arr_t2)}\")\n",
    "\n",
    "arr_t2[np.argmax(arr_t2)] = 0\n",
    "\n",
    "print(\"\\nМассив после изменения:\")\n",
    "print(arr_t2)"
   ],
   "outputs": [
    {
     "name": "stdout",
     "output_type": "stream",
     "text": [
      "Оригинальный массив:\n",
      "[ 16 -19  -5   1   2 -14 -17  -9  -8 -19 -10 -16 -18 -10   9 -13   5  -5\n",
      "  12  -3]\n",
      "\n",
      "Максимальный элемент: 16\n",
      "\n",
      "Массив после изменения:\n",
      "[  0 -19  -5   1   2 -14 -17  -9  -8 -19 -10 -16 -18 -10   9 -13   5  -5\n",
      "  12  -3]\n"
     ]
    }
   ],
   "execution_count": 5
  },
  {
   "cell_type": "markdown",
   "id": "3cac656b",
   "metadata": {},
   "source": [
    "**3.** Построить прямое произведение массивов (все комбинации с каждым элементом). На вход подается двумерный массив"
   ]
  },
  {
   "cell_type": "code",
   "id": "3396b764",
   "metadata": {
    "ExecuteTime": {
     "end_time": "2024-09-14T07:30:47.535804Z",
     "start_time": "2024-09-14T07:30:47.513253Z"
    }
   },
   "source": [
    "arr_t3 = np.arange(0, 12).reshape(6, 2)\n",
    "\n",
    "print(\"Оригинальный массив:\")\n",
    "print(arr_t3)\n",
    "\n",
    "grids_t3 = np.meshgrid(*arr_t3)\n",
    "\n",
    "cartesian_product_t3 = np.array(grids_t3).T.reshape(-1, len(arr_t3))\n",
    "\n",
    "print(\"\\nПрямое произведение массивов:\")\n",
    "print(cartesian_product_t3)"
   ],
   "outputs": [
    {
     "name": "stdout",
     "output_type": "stream",
     "text": [
      "Оригинальный массив:\n",
      "[[ 0  1]\n",
      " [ 2  3]\n",
      " [ 4  5]\n",
      " [ 6  7]\n",
      " [ 8  9]\n",
      " [10 11]]\n",
      "\n",
      "Прямое произведение массивов:\n",
      "[[ 0  2  4  6  8 10]\n",
      " [ 0  3  4  6  8 10]\n",
      " [ 1  2  4  6  8 10]\n",
      " [ 1  3  4  6  8 10]\n",
      " [ 0  2  5  6  8 10]\n",
      " [ 0  3  5  6  8 10]\n",
      " [ 1  2  5  6  8 10]\n",
      " [ 1  3  5  6  8 10]\n",
      " [ 0  2  4  7  8 10]\n",
      " [ 0  3  4  7  8 10]\n",
      " [ 1  2  4  7  8 10]\n",
      " [ 1  3  4  7  8 10]\n",
      " [ 0  2  5  7  8 10]\n",
      " [ 0  3  5  7  8 10]\n",
      " [ 1  2  5  7  8 10]\n",
      " [ 1  3  5  7  8 10]\n",
      " [ 0  2  4  6  9 10]\n",
      " [ 0  3  4  6  9 10]\n",
      " [ 1  2  4  6  9 10]\n",
      " [ 1  3  4  6  9 10]\n",
      " [ 0  2  5  6  9 10]\n",
      " [ 0  3  5  6  9 10]\n",
      " [ 1  2  5  6  9 10]\n",
      " [ 1  3  5  6  9 10]\n",
      " [ 0  2  4  7  9 10]\n",
      " [ 0  3  4  7  9 10]\n",
      " [ 1  2  4  7  9 10]\n",
      " [ 1  3  4  7  9 10]\n",
      " [ 0  2  5  7  9 10]\n",
      " [ 0  3  5  7  9 10]\n",
      " [ 1  2  5  7  9 10]\n",
      " [ 1  3  5  7  9 10]\n",
      " [ 0  2  4  6  8 11]\n",
      " [ 0  3  4  6  8 11]\n",
      " [ 1  2  4  6  8 11]\n",
      " [ 1  3  4  6  8 11]\n",
      " [ 0  2  5  6  8 11]\n",
      " [ 0  3  5  6  8 11]\n",
      " [ 1  2  5  6  8 11]\n",
      " [ 1  3  5  6  8 11]\n",
      " [ 0  2  4  7  8 11]\n",
      " [ 0  3  4  7  8 11]\n",
      " [ 1  2  4  7  8 11]\n",
      " [ 1  3  4  7  8 11]\n",
      " [ 0  2  5  7  8 11]\n",
      " [ 0  3  5  7  8 11]\n",
      " [ 1  2  5  7  8 11]\n",
      " [ 1  3  5  7  8 11]\n",
      " [ 0  2  4  6  9 11]\n",
      " [ 0  3  4  6  9 11]\n",
      " [ 1  2  4  6  9 11]\n",
      " [ 1  3  4  6  9 11]\n",
      " [ 0  2  5  6  9 11]\n",
      " [ 0  3  5  6  9 11]\n",
      " [ 1  2  5  6  9 11]\n",
      " [ 1  3  5  6  9 11]\n",
      " [ 0  2  4  7  9 11]\n",
      " [ 0  3  4  7  9 11]\n",
      " [ 1  2  4  7  9 11]\n",
      " [ 1  3  4  7  9 11]\n",
      " [ 0  2  5  7  9 11]\n",
      " [ 0  3  5  7  9 11]\n",
      " [ 1  2  5  7  9 11]\n",
      " [ 1  3  5  7  9 11]]\n"
     ]
    }
   ],
   "execution_count": 6
  },
  {
   "cell_type": "markdown",
   "id": "674c9354",
   "metadata": {},
   "source": [
    "**4.** Даны 2 массива A (8x3) и B (2x2). Найти строки в A, которые содержат элементы из каждой строки в B, независимо от порядка элементов в B"
   ]
  },
  {
   "cell_type": "code",
   "id": "cb664782",
   "metadata": {
    "ExecuteTime": {
     "end_time": "2024-09-14T07:30:47.574250Z",
     "start_time": "2024-09-14T07:30:47.555838Z"
    }
   },
   "source": [
    "arr_a_t4 = np.array([[1, 4, 3], [9, 5, 6], [12, 8, 9], [2, 4, 7], \n",
    "                    [12, 9, 8], [0, 6, 9], [1, 12, 9], [8, 5, 9]])\n",
    "arr_b_t4 = np.array([[8,5], [9,12]])\n",
    "\n",
    "print(\"Массив А:\")\n",
    "print(arr_a_t4)\n",
    "print(\"\\nМассив B:\")\n",
    "print(arr_b_t4)\n",
    "\n",
    "def contains_elements(a_row: np.array, b_row_1: np.array, b_row_2: np.array) -> bool:\n",
    "    return np.any(np.isin(a_row, b_row_1)) and np.any(np.isin(a_row, b_row_2))\n",
    "\n",
    "mask_t4 = np.array([contains_elements(row, arr_b_t4[0], arr_b_t4[1]) for row in arr_a_t4])\n",
    "\n",
    "print(\"\\nСтроки в A, которые содержат элементы из каждой строки в B, независимо от порядка элементов в B:\")\n",
    "print(arr_a_t4[mask_t4])"
   ],
   "outputs": [
    {
     "name": "stdout",
     "output_type": "stream",
     "text": [
      "Массив А:\n",
      "[[ 1  4  3]\n",
      " [ 9  5  6]\n",
      " [12  8  9]\n",
      " [ 2  4  7]\n",
      " [12  9  8]\n",
      " [ 0  6  9]\n",
      " [ 1 12  9]\n",
      " [ 8  5  9]]\n",
      "\n",
      "Массив B:\n",
      "[[ 8  5]\n",
      " [ 9 12]]\n",
      "\n",
      "Строки в A, которые содержат элементы из каждой строки в B, независимо от порядка элементов в B:\n",
      "[[ 9  5  6]\n",
      " [12  8  9]\n",
      " [12  9  8]\n",
      " [ 8  5  9]]\n"
     ]
    }
   ],
   "execution_count": 7
  },
  {
   "cell_type": "markdown",
   "id": "fa46533b",
   "metadata": {},
   "source": [
    "**5.** Дана 10x3 матрица, найти строки из неравных значений (например строка [2,2,3] остается, строка [3,3,3] удаляется)"
   ]
  },
  {
   "cell_type": "code",
   "id": "fa545b23",
   "metadata": {
    "ExecuteTime": {
     "end_time": "2024-09-14T07:30:47.725968Z",
     "start_time": "2024-09-14T07:30:47.711413Z"
    }
   },
   "source": [
    "arr_t5 = np.array([\n",
    "    [0, 0, 0],\n",
    "    [3, 7, 9],\n",
    "    [3, 5, 2],\n",
    "    [4, 4, 4],\n",
    "    [4, 2, 6],\n",
    "    [6, 7, 8],\n",
    "    [1, 6, 7],\n",
    "    [5, 3, 1],\n",
    "    [1, 1, 1],\n",
    "    [6, 2, 6]\n",
    "])\n",
    "\n",
    "print(\"Оригинальный массив:\")\n",
    "print(arr_t5)\n",
    "\n",
    "def are_row_elems_equal(row: np.array) -> bool:\n",
    "    return np.all(row == row[0])\n",
    "\n",
    "mask_t5 = np.array([not are_row_elems_equal(a_row) for a_row in arr_t5])\n",
    "\n",
    "print(\"Массив со строками из неравных значений:\")\n",
    "print(arr_t5[mask_t5])"
   ],
   "outputs": [
    {
     "name": "stdout",
     "output_type": "stream",
     "text": [
      "Оригинальный массив:\n",
      "[[0 0 0]\n",
      " [3 7 9]\n",
      " [3 5 2]\n",
      " [4 4 4]\n",
      " [4 2 6]\n",
      " [6 7 8]\n",
      " [1 6 7]\n",
      " [5 3 1]\n",
      " [1 1 1]\n",
      " [6 2 6]]\n",
      "Массив со строками из неравных значений:\n",
      "[[3 7 9]\n",
      " [3 5 2]\n",
      " [4 2 6]\n",
      " [6 7 8]\n",
      " [1 6 7]\n",
      " [5 3 1]\n",
      " [6 2 6]]\n"
     ]
    }
   ],
   "execution_count": 8
  },
  {
   "cell_type": "markdown",
   "id": "28f0d116",
   "metadata": {},
   "source": [
    "**6.** Дан двумерный массив. Удалить те строки, которые повторяются"
   ]
  },
  {
   "cell_type": "code",
   "id": "83d2c0b7",
   "metadata": {
    "ExecuteTime": {
     "end_time": "2024-09-14T07:30:47.900269Z",
     "start_time": "2024-09-14T07:30:47.884423Z"
    }
   },
   "source": [
    "arr_t6 = np.array([\n",
    "    [4, 4, 4],\n",
    "    [3, 7, 9],\n",
    "    [3, 5, 2],\n",
    "    [4, 4, 4],\n",
    "    [4, 4, 4],\n",
    "    [6, 2, 6],\n",
    "    [1, 6, 7],\n",
    "    [5, 3, 1],\n",
    "    [1, 1, 1],\n",
    "    [6, 2, 6]\n",
    "])\n",
    "\n",
    "print(\"Оригинальный массив:\")\n",
    "print(arr_t6)\n",
    "\n",
    "print(\"Массив после удаления повторяющихся строк:\")\n",
    "print(np.unique(arr_t6, axis=0))"
   ],
   "outputs": [
    {
     "name": "stdout",
     "output_type": "stream",
     "text": [
      "Оригинальный массив:\n",
      "[[4 4 4]\n",
      " [3 7 9]\n",
      " [3 5 2]\n",
      " [4 4 4]\n",
      " [4 4 4]\n",
      " [6 2 6]\n",
      " [1 6 7]\n",
      " [5 3 1]\n",
      " [1 1 1]\n",
      " [6 2 6]]\n",
      "Массив после удаления повторяющихся строк:\n",
      "[[1 1 1]\n",
      " [1 6 7]\n",
      " [3 5 2]\n",
      " [3 7 9]\n",
      " [4 4 4]\n",
      " [5 3 1]\n",
      " [6 2 6]]\n"
     ]
    }
   ],
   "execution_count": 9
  },
  {
   "cell_type": "markdown",
   "id": "6daa9e37",
   "metadata": {},
   "source": [
    "______\n",
    "______"
   ]
  },
  {
   "cell_type": "markdown",
   "id": "cfbfcaff",
   "metadata": {},
   "source": [
    "**7.** Для каждой из следующих задач (1-5) нужно привести 2 реализации – одна без использования numpy (cчитайте, что там, где на входе или выходе должны быть numpy array, будут просто списки), а вторая полностью векторизованная с использованием numpy (без использования питоновских циклов/map/list comprehension).\n",
    "\n",
    "\n",
    "__Замечание 1.__ Можно считать, что все указанные объекты непустые (к примеру, в __задаче 1__ на диагонали матрицы есть ненулевые элементы).\n",
    "\n",
    "__Замечание 2.__ Для большинства задач решение занимает не больше 1-2 строк."
   ]
  },
  {
   "cell_type": "markdown",
   "id": "673cac7f",
   "metadata": {},
   "source": [
    "___"
   ]
  },
  {
   "cell_type": "markdown",
   "id": "ca6f585e",
   "metadata": {},
   "source": [
    "* __Задача 1__: Подсчитать произведение ненулевых элементов на диагонали прямоугольной матрицы.  \n",
    " Например, для X = np.array([[1, 0, 1], [2, 0, 2], [3, 0, 3], [4, 4, 4]]) ответ 3."
   ]
  },
  {
   "cell_type": "code",
   "id": "065862fc",
   "metadata": {
    "ExecuteTime": {
     "end_time": "2024-09-14T07:30:47.971960Z",
     "start_time": "2024-09-14T07:30:47.956204Z"
    }
   },
   "source": [
    "# Pure Python (PP)\n",
    "arr_t71_pp = [\n",
    "    [0, 0, 1, 9, 8],\n",
    "    [2, 4, 2, 6, 1],\n",
    "    [3, 0, 0, 1, 2],\n",
    "    [4, 4, 4, 25, 6]\n",
    "]\n",
    "print(\"Pure Python\")\n",
    "print(\"Матрица:\")\n",
    "for row in arr_t71_pp:\n",
    "    print(row)\n",
    "    \n",
    "rows_t71_pp = len(arr_t71_pp)\n",
    "cols_t71_pp = len(arr_t71_pp[0]) if rows_t71_pp > 0 else 0\n",
    "\n",
    "dim_size_t71_pp = min(rows_t71_pp, cols_t71_pp)\n",
    "\n",
    "product_t71_pp = 1\n",
    "\n",
    "for i in range(dim_size_t71_pp):\n",
    "    if arr_t71_pp[i][i] != 0:\n",
    "        product_t71_pp *= arr_t71_pp[i][i]\n",
    "\n",
    "print(f\"Произведение ненулевых элементов на диагонали прямоугольной матрицы: {product_t71_pp}\")"
   ],
   "outputs": [
    {
     "name": "stdout",
     "output_type": "stream",
     "text": [
      "Pure Python\n",
      "Матрица:\n",
      "[0, 0, 1, 9, 8]\n",
      "[2, 4, 2, 6, 1]\n",
      "[3, 0, 0, 1, 2]\n",
      "[4, 4, 4, 25, 6]\n",
      "Произведение ненулевых элементов на диагонали прямоугольной матрицы: 100\n"
     ]
    }
   ],
   "execution_count": 10
  },
  {
   "metadata": {
    "ExecuteTime": {
     "end_time": "2024-09-14T07:30:48.125282Z",
     "start_time": "2024-09-14T07:30:48.112873Z"
    }
   },
   "cell_type": "code",
   "source": [
    "# NumPy (NP)\n",
    "arr_t71_np = np.array([\n",
    "    [0, 0, 1, 9, 8],\n",
    "    [2, 4, 2, 6, 1],\n",
    "    [3, 0, 0, 1, 2],\n",
    "    [4, 4, 4, 25, 6]\n",
    "])\n",
    "\n",
    "print(\"NumPy\")\n",
    "print(\"Матрица:\")\n",
    "print(arr_t71_np)\n",
    "\n",
    "diag_t71_np = np.diagonal(arr_t71_np)\n",
    "\n",
    "nonzero_diag_t71_np = diag_t71_np[diag_t71_np != 0]\n",
    "product_t71_np = np.prod(nonzero_diag_t71_np)\n",
    "\n",
    "print(f\"Произведение ненулевых элементов на диагонали прямоугольной матрицы: {product_t71_np}\")"
   ],
   "id": "e934a894fda39879",
   "outputs": [
    {
     "name": "stdout",
     "output_type": "stream",
     "text": [
      "NumPy\n",
      "Матрица:\n",
      "[[ 0  0  1  9  8]\n",
      " [ 2  4  2  6  1]\n",
      " [ 3  0  0  1  2]\n",
      " [ 4  4  4 25  6]]\n",
      "Произведение ненулевых элементов на диагонали прямоугольной матрицы: 100\n"
     ]
    }
   ],
   "execution_count": 11
  },
  {
   "cell_type": "markdown",
   "id": "9fc51d41",
   "metadata": {},
   "source": [
    "* __Задача 2__: Даны два вектора x и y. Проверить, задают ли они одно и то же мультимножество.  \n",
    "  Например, для x = np.array([1, 2, 2, 4]), y = np.array([4, 2, 1, 2]) ответ True."
   ]
  },
  {
   "cell_type": "code",
   "id": "a809e02f",
   "metadata": {
    "ExecuteTime": {
     "end_time": "2024-09-14T07:30:48.163460Z",
     "start_time": "2024-09-14T07:30:48.149346Z"
    }
   },
   "source": [
    "# Pure Python (PP)\n",
    "from collections import Counter\n",
    "\n",
    "x_t72_pp = [1,3,3,3,5,5]\n",
    "y_t72_pp = [3,1,5,3,3,5]\n",
    "z_t72_pp = [3,3,3,3,3,3]\n",
    "\n",
    "print(\"Pure Python\")\n",
    "print(f\"Вектор Х: {x_t72_pp}\")\n",
    "print(f\"Вектор Y: {y_t72_pp}\")\n",
    "print(f\"Вектор Z: {z_t72_pp}\")\n",
    "\n",
    "print(f\"Задают ли вектора X и Y мультимножество: {Counter(x_t72_pp) == Counter(y_t72_pp)}\")\n",
    "print(f\"Задают ли вектора X и Z мультимножество: {Counter(x_t72_pp) == Counter(z_t72_pp)}\")\n",
    "print(f\"Задают ли вектора Y и Z мультимножество: {Counter(y_t72_pp) == Counter(z_t72_pp)}\")"
   ],
   "outputs": [
    {
     "name": "stdout",
     "output_type": "stream",
     "text": [
      "Pure Python\n",
      "Вектор Х: [1, 3, 3, 3, 5, 5]\n",
      "Вектор Y: [3, 1, 5, 3, 3, 5]\n",
      "Вектор Z: [3, 3, 3, 3, 3, 3]\n",
      "Задают ли вектора X и Y мультимножество: True\n",
      "Задают ли вектора X и Z мультимножество: False\n",
      "Задают ли вектора Y и Z мультимножество: False\n"
     ]
    }
   ],
   "execution_count": 12
  },
  {
   "metadata": {
    "ExecuteTime": {
     "end_time": "2024-09-14T07:30:48.301696Z",
     "start_time": "2024-09-14T07:30:48.281841Z"
    }
   },
   "cell_type": "code",
   "source": [
    "#NumPy (NP)\n",
    "x_t72_np = np.array([1,3,3,3,5,5])\n",
    "y_t72_np = np.array([3,1,5,3,3,5])\n",
    "z_t72_np = np.array([3,3,3,3,3,3])\n",
    "\n",
    "print(\"NumPy\")\n",
    "print(f\"Вектор Х: {x_t72_np}\")\n",
    "print(f\"Вектор Y: {y_t72_np}\")\n",
    "print(f\"Вектор Z: {z_t72_np}\")\n",
    "\n",
    "x_t72_np_unique, x_t72_np_counts = np.unique(x_t72_np, return_counts=True)\n",
    "y_t72_np_unique, y_t72_np_counts = np.unique(y_t72_np, return_counts=True)\n",
    "z_t72_np_unique, z_t72_np_counts = np.unique(z_t72_np, return_counts=True)\n",
    "\n",
    "\n",
    "print(f\"Задают ли вектора X и Y мультимножество: {np.array_equal(x_t72_np_unique, y_t72_np_unique) and np.array_equal(x_t72_np_counts, y_t72_np_counts)}\")\n",
    "print(f\"Задают ли вектора X и Z мультимножество: {np.array_equal(x_t72_np_unique, z_t72_np_unique) and np.array_equal(x_t72_np_counts, z_t72_np_counts)}\")\n",
    "print(f\"Задают ли вектора Y и Z мультимножество: {np.array_equal(y_t72_np_unique, z_t72_np_unique) and np.array_equal(y_t72_np_counts, z_t72_np_counts)}\")"
   ],
   "id": "fcf7066b3b433927",
   "outputs": [
    {
     "name": "stdout",
     "output_type": "stream",
     "text": [
      "NumPy\n",
      "Вектор Х: [1 3 3 3 5 5]\n",
      "Вектор Y: [3 1 5 3 3 5]\n",
      "Вектор Z: [3 3 3 3 3 3]\n",
      "Задают ли вектора X и Y мультимножество: True\n",
      "Задают ли вектора X и Z мультимножество: False\n",
      "Задают ли вектора Y и Z мультимножество: False\n"
     ]
    }
   ],
   "execution_count": 13
  },
  {
   "cell_type": "markdown",
   "id": "b9c185c7",
   "metadata": {},
   "source": [
    "* __Задача 3__: Найти максимальный элемент в векторе x среди элементов, перед которыми стоит ноль. \n",
    " Например, для x = np.array([6, 2, 0, 3, 0, 0, 5, 7, 0]) ответ 5."
   ]
  },
  {
   "metadata": {},
   "cell_type": "markdown",
   "source": "",
   "id": "afbef48ea3c2b65"
  },
  {
   "cell_type": "code",
   "id": "b57df008",
   "metadata": {
    "ExecuteTime": {
     "end_time": "2024-09-14T07:30:48.348804Z",
     "start_time": "2024-09-14T07:30:48.333742Z"
    }
   },
   "source": [
    "# Pure Python (PP)\n",
    "arr_t73_pp = [6, 2, 0, 3, 0, 0, 5, 7, 0, 11, 157, 0, 9, 0, 0, 155, 0, 1, 789, 156]\n",
    "\n",
    "print(\"Pure Python\")\n",
    "print(\"Вектор:\")\n",
    "print(arr_t73_pp)\n",
    "\n",
    "max_val_t73_pp = None\n",
    "\n",
    "for i in range(1, len(arr_t73_pp)):\n",
    "    if arr_t73_pp[i-1] == 0:\n",
    "        if max_val_t73_pp is None or arr_t73_pp[i] > max_val_t73_pp:\n",
    "            max_val_t73_pp = arr_t73_pp[i]\n",
    "\n",
    "print(f\"Максимальный элемент в векторе, перед которыми стоит ноль: {max_val_t73_pp}\")"
   ],
   "outputs": [
    {
     "name": "stdout",
     "output_type": "stream",
     "text": [
      "Pure Python\n",
      "Вектор:\n",
      "[6, 2, 0, 3, 0, 0, 5, 7, 0, 11, 157, 0, 9, 0, 0, 155, 0, 1, 789, 156]\n",
      "Максимальный элемент в векторе, перед которыми стоит ноль: 155\n"
     ]
    }
   ],
   "execution_count": 14
  },
  {
   "metadata": {
    "ExecuteTime": {
     "end_time": "2024-09-14T07:30:48.491432Z",
     "start_time": "2024-09-14T07:30:48.474856Z"
    }
   },
   "cell_type": "code",
   "source": [
    "# NumPy(NP)\n",
    "arr_t73_np = np.array([6, 2, 0, 3, 0, 0, 5, 7, 0, 11, 157, 0, 9, 0, 0, 155, 0, 1, 789, 156])\n",
    "\n",
    "print(\"NumPy\")\n",
    "print(\"Вектор:\")\n",
    "print(arr_t73_np)\n",
    "\n",
    "max_val_t73_np = None\n",
    "\n",
    "shifted_zero_mask_t73_np = np.roll(arr_t73_np == 0, shift=1)\n",
    "elements_after_zero_t73_np = arr_t73_np[shifted_zero_mask_t73_np]\n",
    "\n",
    "if elements_after_zero_t73_np.size != 0:\n",
    "    max_val_t73_np = np.max(elements_after_zero_t73_np)\n",
    "    \n",
    "print(f\"Максимальный элемент в векторе, перед которыми стоит ноль: {max_val_t73_np}\")"
   ],
   "id": "20c73e3a8d4958a3",
   "outputs": [
    {
     "name": "stdout",
     "output_type": "stream",
     "text": [
      "NumPy\n",
      "Вектор:\n",
      "[  6   2   0   3   0   0   5   7   0  11 157   0   9   0   0 155   0   1\n",
      " 789 156]\n",
      "Максимальный элемент в векторе, перед которыми стоит ноль: 155\n"
     ]
    }
   ],
   "execution_count": 15
  },
  {
   "cell_type": "markdown",
   "id": "480be4ce",
   "metadata": {},
   "source": [
    "* __Задача 4__: Реализовать кодирование длин серий (Run-length encoding). Для некоторого вектора x необходимо вернуть кортеж из двух векторов одинаковой длины. Первый содержит числа, а второй - сколько раз их нужно повторить.  \n",
    " Например, для x = np.array([2, 2, 2, 3, 3, 3, 5]) ответ (np.array([2, 3, 5]), np.array([3, 3, 1]))."
   ]
  },
  {
   "cell_type": "code",
   "id": "3c592124",
   "metadata": {
    "ExecuteTime": {
     "end_time": "2024-09-14T07:30:48.550633Z",
     "start_time": "2024-09-14T07:30:48.536401Z"
    }
   },
   "source": [
    "# Pure Python (PP)\n",
    "arr_t74_pp = [2, 2, 2, 3, 3, 3, 5, 2, 2, 10, 5, 5, 5, 3, 3, 3, 10]\n",
    "\n",
    "print(\"Pure Python\")\n",
    "print(\"Вектор:\")\n",
    "print(arr_t74_pp)\n",
    "\n",
    "values_t74_pp, counts_t74_pp = [],[]\n",
    "\n",
    "current_value_t74_pp = arr_t74_pp[0]\n",
    "count_t74_pp = 1\n",
    "\n",
    "for i in range(1, len(arr_t74_pp)):\n",
    "    if arr_t74_pp[i] == current_value_t74_pp:\n",
    "        count_t74_pp += 1\n",
    "    else:\n",
    "        values_t74_pp.append(current_value_t74_pp)\n",
    "        counts_t74_pp.append(count_t74_pp)\n",
    "        current_value_t74_pp = arr_t74_pp[i]\n",
    "        count_t74_pp = 1\n",
    "        \n",
    "values_t74_pp.append(current_value_t74_pp)\n",
    "counts_t74_pp.append(count_t74_pp)\n",
    "\n",
    "print(\"Кодировка длин серий в векторе:\")\n",
    "print(f\"Значения: {values_t74_pp}\")\n",
    "print(f\"Повторы: {counts_t74_pp}\")"
   ],
   "outputs": [
    {
     "name": "stdout",
     "output_type": "stream",
     "text": [
      "Pure Python\n",
      "Вектор:\n",
      "[2, 2, 2, 3, 3, 3, 5, 2, 2, 10, 5, 5, 5, 3, 3, 3, 10]\n",
      "Кодировка длин серий в векторе:\n",
      "Значения: [2, 3, 5, 2, 10, 5, 3, 10]\n",
      "Повторы: [3, 3, 1, 2, 1, 3, 3, 1]\n"
     ]
    }
   ],
   "execution_count": 16
  },
  {
   "metadata": {
    "ExecuteTime": {
     "end_time": "2024-09-14T07:30:48.684937Z",
     "start_time": "2024-09-14T07:30:48.671861Z"
    }
   },
   "cell_type": "code",
   "source": [
    "# NumPy (NP)\n",
    "arr_t74_np = np.array([2, 2, 2, 3, 3, 3, 5, 2, 2, 10, 5, 5, 5, 3, 3, 3, 10])\n",
    "\n",
    "print(\"NumPy\")\n",
    "print(\"Вектор:\")\n",
    "print(arr_t74_np)\n",
    "\n",
    "diff_indices_t74_np = np.where(np.diff(arr_t74_np) != 0)[0] + 1\n",
    "\n",
    "values_t74_np = arr_t74_np[np.hstack(([0], diff_indices_t74_np))]\n",
    "\n",
    "counts_t74_np = np.diff(np.hstack(([0], diff_indices_t74_np, [len(arr_t74_np)])))\n",
    "\n",
    "print(\"Кодировка длин серий в векторе:\")\n",
    "print(f\"Значения: {values_t74_np}\")\n",
    "print(f\"Повторы: {counts_t74_np}\")"
   ],
   "id": "6f54ef3853aa4a85",
   "outputs": [
    {
     "name": "stdout",
     "output_type": "stream",
     "text": [
      "NumPy\n",
      "Вектор:\n",
      "[ 2  2  2  3  3  3  5  2  2 10  5  5  5  3  3  3 10]\n",
      "Кодировка длин серий в векторе:\n",
      "Значения: [ 2  3  5  2 10  5  3 10]\n",
      "Повторы: [3 3 1 2 1 3 3 1]\n"
     ]
    }
   ],
   "execution_count": 17
  },
  {
   "cell_type": "markdown",
   "id": "077532ec",
   "metadata": {},
   "source": [
    "* __Задача 5__: Даны две выборки объектов - X и Y. Вычислить матрицу евклидовых расстояний между объектами. Сравните с функцией scipy.spatial.distance.cdist по скорости работы."
   ]
  },
  {
   "cell_type": "code",
   "id": "1e807797",
   "metadata": {
    "ExecuteTime": {
     "end_time": "2024-09-14T07:30:56.335023Z",
     "start_time": "2024-09-14T07:30:48.738492Z"
    }
   },
   "source": [
    "# Pure Python\n",
    "import timeit\n",
    "x_t75_pp = [[0, -1, 3], [9, -8, 0], [1, -1, 34], [45, -2, 6], [9, -4, -7]]\n",
    "y_t75_pp = [[16, 9, 5], [26, -26, 13], [4, 4, 4], [0, 0, 37], [77, 5, 2]]\n",
    "\n",
    "print(\"Pure Python\")\n",
    "print(f\"Объеты выборки X: {x_t75_pp}\")\n",
    "print(f\"Объекты выборки Y: {y_t75_pp}\")\n",
    "\n",
    "def euclidean_distance_pp(x_objects, y_objects):\n",
    "    distances = []\n",
    "    for x in x_objects:\n",
    "        row = []\n",
    "        for y in y_objects:\n",
    "            dist = sum((xi-yi) ** 2 for xi, yi in zip(x,y)) ** 0.5\n",
    "            row.append(dist)\n",
    "        distances.append(row)\n",
    "    return distances\n",
    "\n",
    "print(f\"Матрица евклидовых расстояний: {euclidean_distance_pp(x_t75_pp, y_t75_pp)}\")\n",
    "print(f\"Время выполнения 100000 повторений: {timeit.timeit(lambda: euclidean_distance_pp(x_t75_pp, y_t75_pp), number= 100000)}\")"
   ],
   "outputs": [
    {
     "name": "stdout",
     "output_type": "stream",
     "text": [
      "Pure Python\n",
      "Объеты выборки X: [[0, -1, 3], [9, -8, 0], [1, -1, 34], [45, -2, 6], [9, -4, -7]]\n",
      "Объекты выборки Y: [[16, 9, 5], [26, -26, 13], [4, 4, 4], [0, 0, 37], [77, 5, 2]]\n",
      "Матрица евклидовых расстояний: [[18.973665961010276, 37.429934544425805, 6.48074069840786, 34.0147027033899, 77.23988606931007], [19.05255888325765, 27.964262908219126, 13.601470508735444, 38.91015291668744, 69.26037828369117], [34.14674215792775, 41.12177038990418, 30.56141357987225, 3.3166247903554, 82.68010643437755], [31.0322412983658, 31.400636936215164, 41.48493702538308, 54.680892457969264, 33.0], [19.026297590440446, 34.249087579087416, 14.491376746189438, 45.088801270381985, 69.18092222571191]]\n",
      "Время выполнения 100000 повторений: 7.581912100009504\n"
     ]
    }
   ],
   "execution_count": 18
  },
  {
   "cell_type": "markdown",
   "id": "973e8064",
   "metadata": {},
   "source": [
    "_______\n",
    "________"
   ]
  },
  {
   "cell_type": "markdown",
   "id": "1104acb7",
   "metadata": {},
   "source": [
    "* #### __Задача 6__: CrunchieMunchies __*__\n",
    "\n",
    "Вы работаете в отделе маркетинга пищевой компании MyCrunch, которая разрабатывает новый вид вкусных, полезных злаков под названием **CrunchieMunchies**.\n",
    "\n",
    "Вы хотите продемонстрировать потребителям, насколько полезны ваши хлопья по сравнению с другими ведущими брендами, поэтому вы собрали данные о питании нескольких разных конкурентов.\n",
    "\n",
    "Ваша задача - использовать вычисления Numpy для анализа этих данных и доказать, что ваши **СrunchieMunchies** - самый здоровый выбор для потребителей.\n"
   ]
  },
  {
   "cell_type": "code",
   "id": "10a77f8d",
   "metadata": {
    "ExecuteTime": {
     "end_time": "2024-09-14T07:30:56.350412Z",
     "start_time": "2024-09-14T07:30:56.339049Z"
    }
   },
   "source": [
    "import numpy as np"
   ],
   "outputs": [],
   "execution_count": 19
  },
  {
   "cell_type": "markdown",
   "id": "ab87cb03",
   "metadata": {},
   "source": [
    "1. Просмотрите файл cereal.csv. Этот файл содержит количества калорий для различных марок хлопьев. Загрузите данные из файла и сохраните их как calorie_stats."
   ]
  },
  {
   "cell_type": "code",
   "id": "9681ebf2",
   "metadata": {
    "ExecuteTime": {
     "end_time": "2024-09-14T07:30:56.379304Z",
     "start_time": "2024-09-14T07:30:56.355047Z"
    }
   },
   "source": [
    "calorie_stats = np.loadtxt(\"./data/cereal.csv\", delimiter=\",\")\n",
    "calorie_stats"
   ],
   "outputs": [
    {
     "data": {
      "text/plain": [
       "array([ 70., 120.,  70.,  50., 110., 110., 110., 130.,  90.,  90., 120.,\n",
       "       110., 120., 110., 110., 110., 100., 110., 110., 110., 100., 110.,\n",
       "       100., 100., 110., 110., 100., 120., 120., 110., 100., 110., 100.,\n",
       "       110., 120., 120., 110., 110., 110., 140., 110., 100., 110., 100.,\n",
       "       150., 150., 160., 100., 120., 140.,  90., 130., 120., 100.,  50.,\n",
       "        50., 100., 100., 120., 100.,  90., 110., 110.,  80.,  90.,  90.,\n",
       "       110., 110.,  90., 110., 140., 100., 110., 110., 100., 100., 110.])"
      ]
     },
     "execution_count": 20,
     "metadata": {},
     "output_type": "execute_result"
    }
   ],
   "execution_count": 20
  },
  {
   "cell_type": "markdown",
   "id": "139cfbd8",
   "metadata": {},
   "source": [
    "2. В одной порции CrunchieMunchies содержится 60 калорий. Насколько выше среднее количество калорий у ваших конкурентов?\n",
    "\n",
    "Сохраните ответ в переменной average_calories и распечатайте переменную в терминале"
   ]
  },
  {
   "cell_type": "code",
   "id": "7036d240",
   "metadata": {
    "ExecuteTime": {
     "end_time": "2024-09-14T07:30:56.396556Z",
     "start_time": "2024-09-14T07:30:56.387345Z"
    }
   },
   "source": [
    "# your code"
   ],
   "outputs": [],
   "execution_count": 21
  },
  {
   "cell_type": "markdown",
   "id": "b2ddb4cd",
   "metadata": {},
   "source": [
    "3. Корректно ли среднее количество калорий отражает распределение набора данных? Давайте отсортируем данные и посмотрим.\n",
    "\n",
    "Отсортируйте данные и сохраните результат в переменной calorie_stats_sorted. Распечатайте отсортированную информацию"
   ]
  },
  {
   "cell_type": "code",
   "id": "46eeb4ed",
   "metadata": {
    "ExecuteTime": {
     "end_time": "2024-09-14T07:30:56.411566Z",
     "start_time": "2024-09-14T07:30:56.400597Z"
    }
   },
   "source": [
    "# your code"
   ],
   "outputs": [],
   "execution_count": 22
  },
  {
   "cell_type": "markdown",
   "id": "4dc74116",
   "metadata": {},
   "source": [
    "4. Похоже, что большинство значений выше среднего. Давайте посмотрим, является ли медиана наиболее корректным показателем набора данных.\n",
    "\n",
    "Вычислите медиану набора данных и сохраните свой ответ в median_calories. Выведите медиану, чтобы вы могли видеть, как она сравнивается со средним значением."
   ]
  },
  {
   "cell_type": "code",
   "id": "b56627c3",
   "metadata": {
    "ExecuteTime": {
     "end_time": "2024-09-14T07:30:56.422107Z",
     "start_time": "2024-09-14T07:30:56.415598Z"
    }
   },
   "source": [
    "# your code"
   ],
   "outputs": [],
   "execution_count": 23
  },
  {
   "cell_type": "markdown",
   "id": "a63ab72f",
   "metadata": {},
   "source": [
    "5. В то время как медиана показывает, что по крайней мере половина наших значений составляет более 100 калорий, было бы более впечатляюще показать, что значительная часть конкурентов имеет более высокое количество калорий, чем CrunchieMunchies.\n",
    "\n",
    "Рассчитайте различные процентили и распечатайте их, пока не найдете наименьший процентиль, превышающий 60 калорий. Сохраните это значение в переменной nth_percentile."
   ]
  },
  {
   "cell_type": "code",
   "id": "fe80ce03",
   "metadata": {
    "ExecuteTime": {
     "end_time": "2024-09-14T07:30:56.436238Z",
     "start_time": "2024-09-14T07:30:56.426142Z"
    }
   },
   "source": [
    "# your code"
   ],
   "outputs": [],
   "execution_count": 24
  },
  {
   "cell_type": "markdown",
   "id": "a2a3c5aa",
   "metadata": {},
   "source": [
    "6. Хотя процентиль показывает нам, что у большинства конкурентов количество калорий намного выше, это неудобная концепция для использования в маркетинговых материалах.\n",
    "\n",
    "Вместо этого давайте подсчитаем процент хлопьев, в которых содержится более 60 калорий на порцию. Сохраните свой ответ в переменной more_calories и распечатайте его"
   ]
  },
  {
   "cell_type": "code",
   "id": "ade0f6ea",
   "metadata": {
    "ExecuteTime": {
     "end_time": "2024-09-14T07:30:56.446782Z",
     "start_time": "2024-09-14T07:30:56.436238Z"
    }
   },
   "source": [
    "# your code"
   ],
   "outputs": [],
   "execution_count": 25
  },
  {
   "cell_type": "markdown",
   "id": "1735d65b",
   "metadata": {},
   "source": [
    "7. Это действительно высокий процент. Это будет очень полезно, когда мы будем продвигать CrunchieMunchies. Но один вопрос заключается в том, насколько велики различия в наборе данных? Можем ли мы сделать обобщение, что в большинстве злаков содержится около 100 калорий или разброс еще больше?\n",
    "\n",
    "Рассчитайте величину отклонения, найдя стандартное отклонение, Сохраните свой ответ в calorie_std и распечатайте на терминале. Как мы можем включить эту ценность в наш анализ?"
   ]
  },
  {
   "cell_type": "code",
   "id": "85c8df1f",
   "metadata": {
    "ExecuteTime": {
     "end_time": "2024-09-14T07:30:56.458139Z",
     "start_time": "2024-09-14T07:30:56.450806Z"
    }
   },
   "source": [
    "# your code"
   ],
   "outputs": [],
   "execution_count": 26
  },
  {
   "cell_type": "markdown",
   "id": "037455c5",
   "metadata": {},
   "source": [
    "8. Напишите короткий абзац, в котором кратко изложите свои выводы и то, как, по вашему мнению, эти данные могут быть использованы в интересах Mycrunch при маркетинге CrunchieMunchies."
   ]
  },
  {
   "cell_type": "code",
   "id": "c260fee9",
   "metadata": {
    "ExecuteTime": {
     "end_time": "2024-09-14T07:30:56.469964Z",
     "start_time": "2024-09-14T07:30:56.462180Z"
    }
   },
   "source": [
    "# your code"
   ],
   "outputs": [],
   "execution_count": 27
  }
 ],
 "metadata": {
  "kernelspec": {
   "display_name": "Python 3 (ipykernel)",
   "language": "python",
   "name": "python3"
  },
  "language_info": {
   "codemirror_mode": {
    "name": "ipython",
    "version": 3
   },
   "file_extension": ".py",
   "mimetype": "text/x-python",
   "name": "python",
   "nbconvert_exporter": "python",
   "pygments_lexer": "ipython3",
   "version": "3.8.10"
  }
 },
 "nbformat": 4,
 "nbformat_minor": 5
}
